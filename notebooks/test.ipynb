{
 "cells": [
  {
   "cell_type": "code",
   "execution_count": 1,
   "id": "aa35245e",
   "metadata": {},
   "outputs": [],
   "source": [
    "import pandas as pd    \n",
    "import numpy as np \n",
    "from scipy.stats import ttest_ind, mannwhitneyu, chi2_contingency\n",
    "from statsmodels.stats.proportion import proportions_ztest \n",
    "import statsmodels.api as sm\n",
    "import statsmodels.formula.api as smf\n",
    "from statsmodels.stats.multicomp import pairwise_tukeyhsd"
   ]
  },
  {
   "cell_type": "code",
   "execution_count": 2,
   "id": "fee57564",
   "metadata": {},
   "outputs": [],
   "source": [
    "df = pd.read_csv(\"../data/df_cleaned.csv\")"
   ]
  },
  {
   "cell_type": "code",
   "execution_count": 3,
   "id": "5f6a113e",
   "metadata": {},
   "outputs": [],
   "source": [
    "df['Margin'] = df['TotalPremium'] - df['TotalClaims']"
   ]
  },
  {
   "cell_type": "markdown",
   "id": "df25309c",
   "metadata": {},
   "source": [
    "# Proportion test; claim frequancy vs gender"
   ]
  },
  {
   "cell_type": "code",
   "execution_count": 4,
   "id": "6803f4a2",
   "metadata": {},
   "outputs": [
    {
     "name": "stdout",
     "output_type": "stream",
     "text": [
      "=== Claim Frequency by Gender ===\n",
      "Male: 94 out of 42576 → Proportion = 0.00221\n",
      "Female: 14 out of 6755 → Proportion = 0.00207\n",
      "\n",
      "=== Hypothesis Test ===\n",
      "Z = 0.221, p = 0.82510\n"
     ]
    }
   ],
   "source": [
    "# Create binary column for claim\n",
    "df['has_claim'] = df['TotalClaims'] > 0\n",
    "\n",
    "# Get claim counts and total counts by gender\n",
    "claim_counts = df.groupby('Gender')['has_claim'].sum()\n",
    "total_counts = df.groupby('Gender')['has_claim'].count()\n",
    "\n",
    "# Prepare inputs for z-test\n",
    "count = [claim_counts['Male'], claim_counts['Female']]\n",
    "nobs = [total_counts['Male'], total_counts['Female']]\n",
    "\n",
    "# Perform z-test\n",
    "z_stat, p_value = proportions_ztest(count, nobs)\n",
    "\n",
    "# Calculate sample proportions\n",
    "proportions = [c / n for c, n in zip(count, nobs)]\n",
    "\n",
    "# Print detailed output\n",
    "print(\"=== Claim Frequency by Gender ===\")\n",
    "print(f\"Male: {claim_counts['Male']} out of {total_counts['Male']} \"\n",
    "      f\"→ Proportion = {proportions[0]:.5f}\")\n",
    "print(f\"Female: {claim_counts['Female']} out of {total_counts['Female']} \"\n",
    "      f\"→ Proportion = {proportions[1]:.5f}\")\n",
    "print(\"\\n=== Hypothesis Test ===\")\n",
    "print(f\"Z = {z_stat:.3f}, p = {p_value:.5f}\")"
   ]
  },
  {
   "cell_type": "markdown",
   "id": "60d93825",
   "metadata": {},
   "source": [
    "# Independent t_test: claim severity vs gender "
   ]
  },
  {
   "cell_type": "code",
   "execution_count": 5,
   "id": "a3e945f7",
   "metadata": {},
   "outputs": [
    {
     "name": "stdout",
     "output_type": "stream",
     "text": [
      "=== Claim Severity (TotalClaims) by Gender ===\n",
      "Female mean: 17874.72\n",
      "Male mean:   14858.55\n",
      "\n",
      "=== Hypothesis Test ===\n",
      "T = 0.579, p = 0.568\n"
     ]
    }
   ],
   "source": [
    "# Only consider rows with at least one claim\n",
    "claimed = df[df['TotalClaims'] > 0]\n",
    "\n",
    "# Split into gender groups\n",
    "female_sev = claimed[claimed['Gender'] == 'Female']['TotalClaims']\n",
    "male_sev = claimed[claimed['Gender'] == 'Male']['TotalClaims']\n",
    "\n",
    "# Compute sample means\n",
    "female_mean = female_sev.mean()\n",
    "male_mean = male_sev.mean()\n",
    "\n",
    "# Perform independent t-test\n",
    "t_stat, p_value = ttest_ind(female_sev, male_sev, equal_var=False)\n",
    "\n",
    "# Print output\n",
    "print(\"=== Claim Severity (TotalClaims) by Gender ===\")\n",
    "print(f\"Female mean: {female_mean:.2f}\")\n",
    "print(f\"Male mean:   {male_mean:.2f}\")\n",
    "print(\"\\n=== Hypothesis Test ===\")\n",
    "print(f\"T = {t_stat:.3f}, p = {p_value:.3f}\")"
   ]
  },
  {
   "cell_type": "markdown",
   "id": "5721b6f9",
   "metadata": {},
   "source": [
    "# Independent t_test: margin vs Gender"
   ]
  },
  {
   "cell_type": "code",
   "execution_count": 6,
   "id": "ef3c086e",
   "metadata": {},
   "outputs": [
    {
     "name": "stdout",
     "output_type": "stream",
     "text": [
      "=== Margin( total premium-total claim) by Gender ===\n",
      "Female mean: -17539.83\n",
      "Male mean:   -14623.82\n",
      "\n",
      "=== Hypothesis Test ===\n",
      "T = -0.562, p = 0.579\n"
     ]
    }
   ],
   "source": [
    "female_sev = claimed[claimed['Gender'] == 'Female']['Margin']\n",
    "male_sev = claimed[claimed['Gender'] == 'Male']['Margin']\n",
    "\n",
    "# Compute sample means\n",
    "female_mean = female_sev.mean()\n",
    "male_mean = male_sev.mean()\n",
    "\n",
    "# Perform independent t-test\n",
    "t_stat, p_value = ttest_ind(female_sev, male_sev, equal_var=False)\n",
    "\n",
    "# Print output\n",
    "print(\"=== Margin( total premium-total claim) by Gender ===\")\n",
    "print(f\"Female mean: {female_mean:.2f}\")\n",
    "print(f\"Male mean:   {male_mean:.2f}\")\n",
    "print(\"\\n=== Hypothesis Test ===\")\n",
    "print(f\"T = {t_stat:.3f}, p = {p_value:.3f}\")"
   ]
  },
  {
   "cell_type": "markdown",
   "id": "9c10b4b4",
   "metadata": {},
   "source": [
    "# Chi-square test of association claim frequancy and province"
   ]
  },
  {
   "cell_type": "code",
   "execution_count": 7,
   "id": "900d4807",
   "metadata": {},
   "outputs": [
    {
     "name": "stdout",
     "output_type": "stream",
     "text": [
      "\n",
      "=== Observed Counts ===\n",
      "               Claimed  Not_Claimed\n",
      "Province                           \n",
      "Eastern Cape        50        30282\n",
      "Free State          11         8088\n",
      "Gauteng           1322       392520\n",
      "KwaZulu-Natal      483       169052\n",
      "Limpopo             67        24769\n",
      "Mpumalanga         128        52588\n",
      "North West         349       142938\n",
      "Northern Cape        8         6372\n",
      "Western Cape       370       170408\n",
      "\n",
      "=== Expected Counts ===\n",
      "               Claimed  Not_Claimed\n",
      "Province                           \n",
      "Eastern Cape     84.58     30247.42\n",
      "Free State       22.58      8076.42\n",
      "Gauteng        1098.25    392743.75\n",
      "KwaZulu-Natal   472.76    169062.24\n",
      "Limpopo          69.26     24766.74\n",
      "Mpumalanga      147.00     52569.00\n",
      "North West      399.56    142887.44\n",
      "Northern Cape    17.79      6362.21\n",
      "Western Cape    476.22    170301.78\n",
      "=== Chi-Square Test for Risk by Province ===\n",
      "Chi2 = 104.190, p-value = 0.00000\n",
      "Degrees of Freedom = 8\n"
     ]
    }
   ],
   "source": [
    "# Create binary column for claim\n",
    "df['has_claim'] = df['TotalClaims'] > 0 \n",
    "\n",
    "# Get number of claims and total observations per province\n",
    "claim_counts = df.groupby('Province')['has_claim'].sum()\n",
    "total_counts = df.groupby('Province')['has_claim'].count()\n",
    "\n",
    "# Combine into a contingency table\n",
    "contingency_table = pd.concat([claim_counts, total_counts - claim_counts], axis=1)\n",
    "contingency_table.columns = ['Claimed', 'Not_Claimed']\n",
    "\n",
    "# Perform chi-square test\n",
    "chi2, p, dof, expected = chi2_contingency(contingency_table)\n",
    "\n",
    "# Convert expected into a readable DataFrame\n",
    "expected_df = pd.DataFrame(expected, \n",
    "                           index=contingency_table.index, \n",
    "                           columns=contingency_table.columns)\n",
    "\n",
    "# Output\n",
    "\n",
    "print(\"\\n=== Observed Counts ===\")\n",
    "print(contingency_table)\n",
    "\n",
    "print(\"\\n=== Expected Counts ===\")\n",
    "print(expected_df.round(2))\n",
    "\n",
    "print(\"=== Chi-Square Test for Risk by Province ===\")\n",
    "print(f\"Chi2 = {chi2:.3f}, p-value = {p:.5f}\")\n",
    "print(f\"Degrees of Freedom = {dof}\")\n"
   ]
  },
  {
   "cell_type": "code",
   "execution_count": 8,
   "id": "fe275275",
   "metadata": {},
   "outputs": [
    {
     "name": "stdout",
     "output_type": "stream",
     "text": [
      "=== ANOVA Table ===\n",
      "                   sum_sq      df     F  PR(>F)\n",
      "C(Province)  5.730111e+10     8.0  4.83     0.0\n",
      "Residual     4.120971e+12  2779.0   NaN     NaN\n",
      "\n",
      "=== Group Summary ===\n",
      "               Sample Size  Mean Claim Severity\n",
      "Province                                       \n",
      "Eastern Cape            50             27128.53\n",
      "Free State              11             32265.66\n",
      "Gauteng               1322             22243.88\n",
      "KwaZulu-Natal          483             29609.49\n",
      "Limpopo                 67             15171.29\n",
      "Mpumalanga             128             15979.55\n",
      "North West             349             16963.47\n",
      "Northern Cape            8             11186.31\n",
      "Western Cape           370             28095.85\n",
      "\n",
      "=== Pairwise Comparison (Tukey HSD) ===\n",
      "            Multiple Comparison of Means - Tukey HSD, FWER=0.05             \n",
      "============================================================================\n",
      "    group1        group2      meandiff  p-adj     lower      upper    reject\n",
      "----------------------------------------------------------------------------\n",
      " Eastern Cape    Free State   5137.1278    1.0 -34672.4563 44946.7119  False\n",
      " Eastern Cape       Gauteng  -4884.6549  0.994 -22106.5283 12337.2186  False\n",
      " Eastern Cape KwaZulu-Natal   2480.9542    1.0 -15277.6613 20239.5697  False\n",
      " Eastern Cape       Limpopo -11957.2391   0.77 -34296.7981 10382.3199  False\n",
      " Eastern Cape    Mpumalanga -11148.9799 0.7241 -31084.3398  8786.3801  False\n",
      " Eastern Cape    North West -10165.0662  0.718 -28240.6695   7910.537  False\n",
      " Eastern Cape Northern Cape -15942.2197 0.9761  -61460.733 29576.2936  False\n",
      " Eastern Cape  Western Cape    967.3166    1.0 -17043.8917 18978.5249  False\n",
      "   Free State       Gauteng -10021.7827 0.9949 -46213.3234  26169.758  False\n",
      "   Free State KwaZulu-Natal  -2656.1736    1.0 -39106.1821 33793.8349  False\n",
      "   Free State       Limpopo -17094.3669  0.911 -55982.5475 21793.8137  False\n",
      "   Free State    Mpumalanga -16286.1077 0.9173 -53844.7721 21272.5567  False\n",
      "   Free State    North West  -15302.194 0.9323 -51907.6872 21303.2991  False\n",
      "   Free State Northern Cape -21079.3475 0.9611 -76623.6518 34464.9569  False\n",
      "   Free State  Western Cape  -4169.8112    1.0 -40743.5493 32403.9269  False\n",
      "      Gauteng KwaZulu-Natal   7365.6091 0.0099   1010.0556 13721.1626   True\n",
      "      Gauteng       Limpopo  -7072.5842  0.871 -22041.9038  7896.7354  False\n",
      "      Gauteng    Mpumalanga   -6264.325 0.7104 -17329.7311  4801.0811  False\n",
      "      Gauteng    North West  -5280.4114 0.3555 -12474.3023  1913.4796  False\n",
      "      Gauteng Northern Cape -11057.5648 0.9966 -53448.1261 31332.9965  False\n",
      "      Gauteng  Western Cape   5851.9715 0.1937  -1178.5519 12882.4949  False\n",
      "KwaZulu-Natal       Limpopo -14438.1933  0.095  -30022.032  1145.6455  False\n",
      "KwaZulu-Natal    Mpumalanga -13629.9341 0.0113  -25513.482 -1746.3861   True\n",
      "KwaZulu-Natal    North West -12646.0204 0.0001 -21044.0897 -4247.9512   True\n",
      "KwaZulu-Natal Northern Cape -18423.1739 0.9186 -61034.6182 24188.2704  False\n",
      "KwaZulu-Natal  Western Cape  -1513.6376 0.9997  -9772.1943  6744.9191  False\n",
      "      Limpopo    Mpumalanga    808.2592    1.0 -17216.8949 18833.4134  False\n",
      "      Limpopo    North West   1792.1728    1.0 -14151.9495 17736.2952  False\n",
      "      Limpopo Northern Cape  -3984.9806    1.0 -48699.8848 40729.9236  False\n",
      "      Limpopo  Western Cape  12924.5557 0.2189  -2946.5258 28795.6372  False\n",
      "   Mpumalanga    North West    983.9136    1.0 -11368.3218  13336.149  False\n",
      "   Mpumalanga Northern Cape  -4793.2398    1.0 -48356.8179 38770.3383  False\n",
      "   Mpumalanga  Western Cape  12116.2965 0.0556   -141.5137 24374.1066  False\n",
      "   North West Northern Cape  -5777.1534    1.0 -48521.6758 36967.3689  False\n",
      "   North West  Western Cape  11132.3828 0.0035   2212.5865 20052.1792   True\n",
      "Northern Cape  Western Cape  16909.5363 0.9503 -25807.7949 59626.8675  False\n",
      "----------------------------------------------------------------------------\n"
     ]
    }
   ],
   "source": [
    "# Only consider customers who have made at least one claim\n",
    "claimed = df[df['TotalClaims'] > 0]\n",
    "\n",
    "# === ANOVA Table ===\n",
    "model = smf.ols('TotalClaims ~ C(Province)', data=claimed).fit()\n",
    "anova_table = sm.stats.anova_lm(model, typ=2)\n",
    "\n",
    "print(\"=== ANOVA Table ===\")\n",
    "print(anova_table.round(3))\n",
    "\n",
    "# === Group Summary ===\n",
    "summary = claimed.groupby('Province')['TotalClaims'].agg(['count', 'mean']).rename(\n",
    "    columns={'count': 'Sample Size', 'mean': 'Mean Claim Severity'}\n",
    ")\n",
    "print(\"\\n=== Group Summary ===\")\n",
    "print(summary.round(2))\n",
    "\n",
    "# === Tukey's HSD for Pairwise Comparison ===\n",
    "tukey = pairwise_tukeyhsd(endog=claimed['TotalClaims'],\n",
    "                          groups=claimed['Province'],\n",
    "                          alpha=0.05)\n",
    "\n",
    "print(\"\\n=== Pairwise Comparison (Tukey HSD) ===\")\n",
    "print(tukey.summary())"
   ]
  },
  {
   "cell_type": "markdown",
   "id": "1030ae5f",
   "metadata": {},
   "source": [
    "# ANOVA:Vehicle type vs claim severity"
   ]
  },
  {
   "cell_type": "code",
   "execution_count": 9,
   "id": "39abe5d6",
   "metadata": {},
   "outputs": [
    {
     "name": "stdout",
     "output_type": "stream",
     "text": [
      "=== ANOVA Table ===\n",
      "                      sum_sq      df      F  PR(>F)\n",
      "C(VehicleType)  1.193816e+10     5.0  1.594   0.158\n",
      "Residual        4.166334e+12  2782.0    NaN     NaN\n",
      "\n",
      "=== Group Summary ===\n",
      "                   Sample Size  Mean Claim Severity\n",
      "VehicleType                                        \n",
      "Bus                          1              7996.54\n",
      "Heavy Commercial            21             35736.88\n",
      "Light Commercial             8              7556.56\n",
      "Medium Commercial          158             26075.11\n",
      "Passenger Vehicle         2587             22957.37\n",
      "Unknown_Category            13             42822.00\n",
      "\n",
      "=== Pairwise Comparison (Tukey HSD) ===\n",
      "                 Multiple Comparison of Means - Tukey HSD, FWER=0.05                  \n",
      "======================================================================================\n",
      "      group1            group2        meandiff  p-adj     lower        upper    reject\n",
      "--------------------------------------------------------------------------------------\n",
      "              Bus  Heavy Commercial  27740.3498 0.9819  -85214.1459 140694.8455  False\n",
      "              Bus  Light Commercial   -439.9726    1.0 -117491.7706 116611.8254  False\n",
      "              Bus Medium Commercial  18078.5719 0.9973  -92627.6033 128784.7471  False\n",
      "              Bus Passenger Vehicle   14960.839 0.9989  -95417.9817 125339.6596  False\n",
      "              Bus  Unknown_Category   34825.463 0.9543  -79697.9203 149348.8463  False\n",
      " Heavy Commercial  Light Commercial -28180.3224 0.4969  -74031.0452  17670.4003  False\n",
      " Heavy Commercial Medium Commercial  -9661.7779 0.8915  -35294.2299   15970.674  False\n",
      " Heavy Commercial Passenger Vehicle -12779.5109 0.6597  -36959.0356  11400.0138  False\n",
      " Heavy Commercial  Unknown_Category   7085.1131 0.9955  -31860.6271  46030.8534  False\n",
      " Light Commercial Medium Commercial  18518.5445 0.7738  -21474.3037  58511.3927  False\n",
      " Light Commercial Passenger Vehicle  15400.8115 0.8716  -23676.7361  54478.3592  False\n",
      " Light Commercial  Unknown_Category  35265.4356 0.3266   -14324.644  84855.5152  False\n",
      "Medium Commercial Passenger Vehicle  -3117.7329 0.9234   -12161.435   5925.9691  False\n",
      "Medium Commercial  Unknown_Category  16746.8911 0.6644  -15095.0594  48588.8416  False\n",
      "Passenger Vehicle  Unknown_Category   19864.624 0.4361  -10819.8449   50549.093  False\n",
      "--------------------------------------------------------------------------------------\n"
     ]
    }
   ],
   "source": [
    "# Only consider customers who have made at least one claim\n",
    "claimed = df[df['TotalClaims'] > 0]\n",
    "\n",
    "# === ANOVA Table ===\n",
    "model = smf.ols('TotalClaims ~ C(VehicleType)', data=claimed).fit()\n",
    "anova_table = sm.stats.anova_lm(model, typ=2)\n",
    "\n",
    "print(\"=== ANOVA Table ===\")\n",
    "print(anova_table.round(3))\n",
    "\n",
    "# === Group Summary ===\n",
    "summary = claimed.groupby('VehicleType')['TotalClaims'].agg(['count', 'mean']).rename(\n",
    "    columns={'count': 'Sample Size', 'mean': 'Mean Claim Severity'}\n",
    ")\n",
    "print(\"\\n=== Group Summary ===\")\n",
    "print(summary.round(2))\n",
    "\n",
    "# === Tukey's HSD for Pairwise Comparison ===\n",
    "tukey = pairwise_tukeyhsd(endog=claimed['TotalClaims'],\n",
    "                          groups=claimed['VehicleType'],\n",
    "                          alpha=0.05)\n",
    "\n",
    "print(\"\\n=== Pairwise Comparison (Tukey HSD) ===\")\n",
    "print(tukey.summary())"
   ]
  }
 ],
 "metadata": {
  "kernelspec": {
   "display_name": "venv",
   "language": "python",
   "name": "python3"
  },
  "language_info": {
   "codemirror_mode": {
    "name": "ipython",
    "version": 3
   },
   "file_extension": ".py",
   "mimetype": "text/x-python",
   "name": "python",
   "nbconvert_exporter": "python",
   "pygments_lexer": "ipython3",
   "version": "3.12.4"
  }
 },
 "nbformat": 4,
 "nbformat_minor": 5
}
