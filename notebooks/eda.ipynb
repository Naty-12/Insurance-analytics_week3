{
 "cells": [
  {
   "cell_type": "code",
   "execution_count": 1,
   "id": "0585f685",
   "metadata": {},
   "outputs": [],
   "source": [
    "import pandas as pd\n",
    "import matplotlib.pyplot as plt\n",
    "import seaborn as sns\n",
    "from scipy.stats import zscore"
   ]
  },
  {
   "cell_type": "code",
   "execution_count": 2,
   "id": "3797671f",
   "metadata": {},
   "outputs": [],
   "source": [
    "df = pd.read_csv(\n",
    "    \"../data/MachineLearningRating_v3.txt\", delimiter=\"|\",dtype={ \"CapitalOutstanding\": str,\"CrossBorder\": str},\n",
    "    low_memory=False)"
   ]
  },
  {
   "cell_type": "code",
   "execution_count": 3,
   "id": "dd9eb6f8",
   "metadata": {},
   "outputs": [
    {
     "name": "stdout",
     "output_type": "stream",
     "text": [
      "(1000098, 52)\n"
     ]
    },
    {
     "data": {
      "text/plain": [
       "UnderwrittenCoverID               0\n",
       "PolicyID                          0\n",
       "TransactionMonth                  0\n",
       "IsVATRegistered                   0\n",
       "Citizenship                       0\n",
       "LegalType                         0\n",
       "Title                             0\n",
       "Language                          0\n",
       "Bank                         145961\n",
       "AccountType                   40232\n",
       "MaritalStatus                  8259\n",
       "Gender                         9536\n",
       "Country                           0\n",
       "Province                          0\n",
       "PostalCode                        0\n",
       "MainCrestaZone                    0\n",
       "SubCrestaZone                     0\n",
       "ItemType                          0\n",
       "mmcode                          552\n",
       "VehicleType                     552\n",
       "RegistrationYear                  0\n",
       "make                            552\n",
       "Model                           552\n",
       "Cylinders                       552\n",
       "cubiccapacity                   552\n",
       "kilowatts                       552\n",
       "bodytype                        552\n",
       "NumberOfDoors                   552\n",
       "VehicleIntroDate                552\n",
       "CustomValueEstimate          779642\n",
       "AlarmImmobiliser                  0\n",
       "TrackingDevice                    0\n",
       "CapitalOutstanding                2\n",
       "NewVehicle                   153295\n",
       "WrittenOff                   641901\n",
       "Rebuilt                      641901\n",
       "Converted                    641901\n",
       "CrossBorder                  999400\n",
       "NumberOfVehiclesInFleet     1000098\n",
       "SumInsured                        0\n",
       "TermFrequency                     0\n",
       "CalculatedPremiumPerTerm          0\n",
       "ExcessSelected                    0\n",
       "CoverCategory                     0\n",
       "CoverType                         0\n",
       "CoverGroup                        0\n",
       "Section                           0\n",
       "Product                           0\n",
       "StatutoryClass                    0\n",
       "StatutoryRiskType                 0\n",
       "TotalPremium                      0\n",
       "TotalClaims                       0\n",
       "dtype: int64"
      ]
     },
     "execution_count": 3,
     "metadata": {},
     "output_type": "execute_result"
    }
   ],
   "source": [
    "# Overview\n",
    "print(df.shape)\n",
    "df.isna().sum()"
   ]
  },
  {
   "cell_type": "markdown",
   "id": "9bf00659",
   "metadata": {},
   "source": [
    "##  Missing Value Analysis and Strategy for Insurance Dataset\n",
    "\n",
    "###  🔍 Key Observations on Missing Values\n",
    "\n",
    "| Variable                        | Missing Count | Impact on Analysis                                     |\n",
    "|--------------------------------|----------------|--------------------------------------------------------|\n",
    "| `Bank`                         | 145,961        | Moderate; affects demographics but not premiums/claims |\n",
    "| `AccountType`                  | 40,232         | Slight impact; may need imputation or exclusion        |\n",
    "| `make`, `Model`, etc.          | ~552           | Very low %; can drop or impute easily                  |\n",
    "| `CustomValueEstimate`          | 779,642        | Very high missingness — likely unusable                |\n",
    "| `NewVehicle`, `WrittenOff`, `Rebuilt`, `Converted` | 150k–640k+ | Possibly safe to exclude unless critical              |\n",
    "| `CrossBorder`                  | 999,400        | >99% missing — should be dropped                       |\n",
    "| `NumberOfVehiclesInFleet`      | 1,000,098      | Fully missing — **drop column**                        |\n",
    "\n",
    "---\n",
    "\n",
    "## ✅ Recommended Actions\n",
    "\n",
    "### 1. Drop Columns with Excessive Missingness\n",
    "\n",
    "Drop the following columns:\n",
    "\n",
    "```python\n",
    "df = df.drop(columns=[\n",
    "    'CrossBorder', \n",
    "    'NumberOfVehiclesInFleet', \n",
    "    'CustomValueEstimate',\n",
    "    'WrittenOff', \n",
    "    'Rebuilt', \n",
    "    'Converted'\n",
    "])"
   ]
  },
  {
   "cell_type": "code",
   "execution_count": 4,
   "id": "465cc744",
   "metadata": {},
   "outputs": [],
   "source": [
    "df = df.drop(columns=[\n",
    "    'CrossBorder', \n",
    "    'NumberOfVehiclesInFleet', \n",
    "    'CustomValueEstimate',\n",
    "    'WrittenOff', \n",
    "    'Rebuilt', \n",
    "    'Converted'\n",
    "])"
   ]
  },
  {
   "cell_type": "code",
   "execution_count": 5,
   "id": "18795240",
   "metadata": {},
   "outputs": [
    {
     "name": "stdout",
     "output_type": "stream",
     "text": [
      "<class 'pandas.core.frame.DataFrame'>\n",
      "RangeIndex: 1000098 entries, 0 to 1000097\n",
      "Data columns (total 46 columns):\n",
      " #   Column                    Non-Null Count    Dtype  \n",
      "---  ------                    --------------    -----  \n",
      " 0   UnderwrittenCoverID       1000098 non-null  int64  \n",
      " 1   PolicyID                  1000098 non-null  int64  \n",
      " 2   TransactionMonth          1000098 non-null  object \n",
      " 3   IsVATRegistered           1000098 non-null  bool   \n",
      " 4   Citizenship               1000098 non-null  object \n",
      " 5   LegalType                 1000098 non-null  object \n",
      " 6   Title                     1000098 non-null  object \n",
      " 7   Language                  1000098 non-null  object \n",
      " 8   Bank                      854137 non-null   object \n",
      " 9   AccountType               959866 non-null   object \n",
      " 10  MaritalStatus             991839 non-null   object \n",
      " 11  Gender                    990562 non-null   object \n",
      " 12  Country                   1000098 non-null  object \n",
      " 13  Province                  1000098 non-null  object \n",
      " 14  PostalCode                1000098 non-null  int64  \n",
      " 15  MainCrestaZone            1000098 non-null  object \n",
      " 16  SubCrestaZone             1000098 non-null  object \n",
      " 17  ItemType                  1000098 non-null  object \n",
      " 18  mmcode                    999546 non-null   float64\n",
      " 19  VehicleType               999546 non-null   object \n",
      " 20  RegistrationYear          1000098 non-null  int64  \n",
      " 21  make                      999546 non-null   object \n",
      " 22  Model                     999546 non-null   object \n",
      " 23  Cylinders                 999546 non-null   float64\n",
      " 24  cubiccapacity             999546 non-null   float64\n",
      " 25  kilowatts                 999546 non-null   float64\n",
      " 26  bodytype                  999546 non-null   object \n",
      " 27  NumberOfDoors             999546 non-null   float64\n",
      " 28  VehicleIntroDate          999546 non-null   object \n",
      " 29  AlarmImmobiliser          1000098 non-null  object \n",
      " 30  TrackingDevice            1000098 non-null  object \n",
      " 31  CapitalOutstanding        1000096 non-null  object \n",
      " 32  NewVehicle                846803 non-null   object \n",
      " 33  SumInsured                1000098 non-null  float64\n",
      " 34  TermFrequency             1000098 non-null  object \n",
      " 35  CalculatedPremiumPerTerm  1000098 non-null  float64\n",
      " 36  ExcessSelected            1000098 non-null  object \n",
      " 37  CoverCategory             1000098 non-null  object \n",
      " 38  CoverType                 1000098 non-null  object \n",
      " 39  CoverGroup                1000098 non-null  object \n",
      " 40  Section                   1000098 non-null  object \n",
      " 41  Product                   1000098 non-null  object \n",
      " 42  StatutoryClass            1000098 non-null  object \n",
      " 43  StatutoryRiskType         1000098 non-null  object \n",
      " 44  TotalPremium              1000098 non-null  float64\n",
      " 45  TotalClaims               1000098 non-null  float64\n",
      "dtypes: bool(1), float64(9), int64(4), object(32)\n",
      "memory usage: 344.3+ MB\n"
     ]
    }
   ],
   "source": [
    "df.info()"
   ]
  },
  {
   "cell_type": "markdown",
   "id": "7148645a",
   "metadata": {},
   "source": [
    "## Data format modification"
   ]
  },
  {
   "cell_type": "code",
   "execution_count": 6,
   "id": "55d06f21",
   "metadata": {},
   "outputs": [],
   "source": [
    "# Convert to datetime\n",
    "df['TransactionMonth'] = pd.to_datetime(df['TransactionMonth'], errors='coerce')\n",
    "df['VehicleIntroDate'] = pd.to_datetime(df['VehicleIntroDate'], format='%m/%Y', errors='coerce')\n",
    "df['CapitalOutstanding'] = pd.to_numeric(df['CapitalOutstanding'], errors='coerce')\n",
    "\n",
    "cat_cols = ['Citizenship', 'LegalType', 'Title', 'Language', 'Bank', 'AccountType',\n",
    "            'MaritalStatus', 'Gender', 'Country', 'Province', 'MainCrestaZone',\n",
    "            'SubCrestaZone', 'ItemType', 'VehicleType', 'make', 'Model', 'bodytype',\n",
    "            'TermFrequency', 'ExcessSelected', 'CoverCategory', 'CoverType',\n",
    "            'CoverGroup', 'Section', 'Product', 'StatutoryClass', 'StatutoryRiskType']\n",
    "df[cat_cols] = df[cat_cols].astype('category')"
   ]
  },
  {
   "cell_type": "code",
   "execution_count": 7,
   "id": "332e69e5",
   "metadata": {},
   "outputs": [
    {
     "data": {
      "text/plain": [
       "UnderwrittenCoverID              0\n",
       "PolicyID                         0\n",
       "TransactionMonth                 0\n",
       "IsVATRegistered                  0\n",
       "Citizenship                      0\n",
       "LegalType                        0\n",
       "Title                            0\n",
       "Language                         0\n",
       "Bank                        145961\n",
       "AccountType                  40232\n",
       "MaritalStatus                 8259\n",
       "Gender                        9536\n",
       "Country                          0\n",
       "Province                         0\n",
       "PostalCode                       0\n",
       "MainCrestaZone                   0\n",
       "SubCrestaZone                    0\n",
       "ItemType                         0\n",
       "mmcode                         552\n",
       "VehicleType                    552\n",
       "RegistrationYear                 0\n",
       "make                           552\n",
       "Model                          552\n",
       "Cylinders                      552\n",
       "cubiccapacity                  552\n",
       "kilowatts                      552\n",
       "bodytype                       552\n",
       "NumberOfDoors                  552\n",
       "VehicleIntroDate             48761\n",
       "AlarmImmobiliser                 0\n",
       "TrackingDevice                   0\n",
       "CapitalOutstanding             322\n",
       "NewVehicle                  153295\n",
       "SumInsured                       0\n",
       "TermFrequency                    0\n",
       "CalculatedPremiumPerTerm         0\n",
       "ExcessSelected                   0\n",
       "CoverCategory                    0\n",
       "CoverType                        0\n",
       "CoverGroup                       0\n",
       "Section                          0\n",
       "Product                          0\n",
       "StatutoryClass                   0\n",
       "StatutoryRiskType                0\n",
       "TotalPremium                     0\n",
       "TotalClaims                      0\n",
       "dtype: int64"
      ]
     },
     "execution_count": 7,
     "metadata": {},
     "output_type": "execute_result"
    }
   ],
   "source": [
    "df.isna().sum()"
   ]
  },
  {
   "cell_type": "markdown",
   "id": "3b180816",
   "metadata": {},
   "source": [
    " ## Treating missing values\n",
    " - For Categorical Columns (Bank, AccountType, MaritalStatus, Gender, VehicleType, make, Model, bodytype,NewVehicle), Create a new category (e.g., 'Unknown Category') for missing values.\n",
    " -  For Numerical Columns (mmcode, Cylinders, cubiccapacity, kilowatts, NumberOfDoors, CapitalOutstanding); mode is used for NumberOfDoors and median  for others. "
   ]
  },
  {
   "cell_type": "code",
   "execution_count": 8,
   "id": "3d4a117a",
   "metadata": {},
   "outputs": [],
   "source": [
    "columns_with_nans_to_impute = [\n",
    "    'Bank', 'AccountType', 'MaritalStatus', 'Gender',\n",
    "    'VehicleType', 'make', 'Model', 'bodytype', 'NewVehicle']\n",
    "\n",
    "for col in columns_with_nans_to_impute:\n",
    "    if col in cat_cols and isinstance(df[col].dtype, pd.CategoricalDtype):\n",
    "        # Add 'Unknown_Category' to the column's categories\n",
    "        df[col] = df[col].cat.add_categories('Unknown_Category')\n",
    "    elif col == 'NewVehicle' and not isinstance(df[col].dtype, pd.CategoricalDtype):\n",
    "        df[col] = df[col].astype('category').cat.add_categories('Unknown_Category')\n",
    "    \n",
    "    df[col] = df[col].fillna('Unknown_Category')\n"
   ]
  },
  {
   "cell_type": "code",
   "execution_count": 9,
   "id": "0d575d27",
   "metadata": {},
   "outputs": [],
   "source": [
    "for nume in ['mmcode', 'Cylinders', 'cubiccapacity', 'kilowatts', 'CapitalOutstanding']:\n",
    "    df[nume] = df[nume].fillna(df[nume].median())\n",
    "\n",
    "df['NumberOfDoors'] = df['NumberOfDoors'].fillna(df['NumberOfDoors'].mode()[0])\n",
    "df['NumberOfDoors'] = df['NumberOfDoors'].astype('int64')"
   ]
  },
  {
   "cell_type": "code",
   "execution_count": 10,
   "id": "491770ce",
   "metadata": {},
   "outputs": [
    {
     "data": {
      "text/html": [
       "<div>\n",
       "<style scoped>\n",
       "    .dataframe tbody tr th:only-of-type {\n",
       "        vertical-align: middle;\n",
       "    }\n",
       "\n",
       "    .dataframe tbody tr th {\n",
       "        vertical-align: top;\n",
       "    }\n",
       "\n",
       "    .dataframe thead th {\n",
       "        text-align: right;\n",
       "    }\n",
       "</style>\n",
       "<table border=\"1\" class=\"dataframe\">\n",
       "  <thead>\n",
       "    <tr style=\"text-align: right;\">\n",
       "      <th></th>\n",
       "      <th>TotalPremium</th>\n",
       "      <th>TotalClaims</th>\n",
       "    </tr>\n",
       "  </thead>\n",
       "  <tbody>\n",
       "    <tr>\n",
       "      <th>count</th>\n",
       "      <td>1.000098e+06</td>\n",
       "      <td>1.000098e+06</td>\n",
       "    </tr>\n",
       "    <tr>\n",
       "      <th>mean</th>\n",
       "      <td>6.190550e+01</td>\n",
       "      <td>6.486119e+01</td>\n",
       "    </tr>\n",
       "    <tr>\n",
       "      <th>std</th>\n",
       "      <td>2.302845e+02</td>\n",
       "      <td>2.384075e+03</td>\n",
       "    </tr>\n",
       "    <tr>\n",
       "      <th>min</th>\n",
       "      <td>-7.825768e+02</td>\n",
       "      <td>-1.200241e+04</td>\n",
       "    </tr>\n",
       "    <tr>\n",
       "      <th>25%</th>\n",
       "      <td>0.000000e+00</td>\n",
       "      <td>0.000000e+00</td>\n",
       "    </tr>\n",
       "    <tr>\n",
       "      <th>50%</th>\n",
       "      <td>2.178333e+00</td>\n",
       "      <td>0.000000e+00</td>\n",
       "    </tr>\n",
       "    <tr>\n",
       "      <th>75%</th>\n",
       "      <td>2.192982e+01</td>\n",
       "      <td>0.000000e+00</td>\n",
       "    </tr>\n",
       "    <tr>\n",
       "      <th>max</th>\n",
       "      <td>6.528260e+04</td>\n",
       "      <td>3.930921e+05</td>\n",
       "    </tr>\n",
       "  </tbody>\n",
       "</table>\n",
       "</div>"
      ],
      "text/plain": [
       "       TotalPremium   TotalClaims\n",
       "count  1.000098e+06  1.000098e+06\n",
       "mean   6.190550e+01  6.486119e+01\n",
       "std    2.302845e+02  2.384075e+03\n",
       "min   -7.825768e+02 -1.200241e+04\n",
       "25%    0.000000e+00  0.000000e+00\n",
       "50%    2.178333e+00  0.000000e+00\n",
       "75%    2.192982e+01  0.000000e+00\n",
       "max    6.528260e+04  3.930921e+05"
      ]
     },
     "execution_count": 10,
     "metadata": {},
     "output_type": "execute_result"
    }
   ],
   "source": [
    "df[['TotalPremium', 'TotalClaims']].describe()"
   ]
  },
  {
   "cell_type": "markdown",
   "id": "f45f0ac8",
   "metadata": {},
   "source": [
    "## Key Takeaways and Recommendations\n",
    "\n",
    "### Negative Values (min for both):\n",
    "- **Urgent Investigation**: These are the most pressing data quality issues. Understand their business meaning.\n",
    "- **Conditional Handling**: \n",
    "  - If they are refunds/recoveries, consider creating new features (e.g., `is_refund`, `TotalRecoveries`) and/or transforming the columns to represent net values.\n",
    "  - If they are errors, decide on a suitable imputation/correction strategy (e.g., setting to `0`, or replacing with `NaN` if they're truly unrecoverable).\n",
    "\n",
    "### Highly Skewed Distributions (median vs. mean):\n",
    "- Both `TotalPremium` and `TotalClaims` are heavily right-skewed.\n",
    "- **Transformation**:\n",
    "  - For modeling purposes (especially with linear models or those sensitive to normality assumptions), consider applying transformations like log (e.g., `np.log1p`, which handles zeros gracefully) or sqrt to reduce skewness.\n",
    "- **Zero-Inflated Models**:\n",
    "  - For `TotalClaims` where 75% are zero, a zero-inflated model (e.g., zero-inflated Poisson or negative binomial regression) or a two-part model (one model for predicting if there's a claim, another for predicting claim amount given there is one) might be more appropriate than standard regression.\n",
    "\n",
    "### Outliers:\n",
    "- The max values are significantly higher than the 75th percentile.\n",
    "- **Treatment**:\n",
    "  - Investigate these large outliers. Are they valid? Do they represent a different type of policy/claim?\n",
    "  - Depending on your objective, you might need to cap them (winsorization), transform them, or analyze them separately.\n",
    "\n",
    "### Data Consistency:\n",
    "- Ensure that premium and claim values are consistently recorded (e.g., always in the same currency, always gross or net, as per business rules).\n",
    "\n",
    "---\n",
    "**In summary**, while the counts indicate no missing values, the presence of negative values and the high skewness point to significant data characteristics that need careful handling and deeper investigation to ensure accurate modeling and meaningful insights."
   ]
  },
  {
   "cell_type": "code",
   "execution_count": 11,
   "id": "930732b9",
   "metadata": {},
   "outputs": [],
   "source": [
    "df = df[(df['TotalPremium'] >= 0) & (df['TotalClaims'] >= 0)]"
   ]
  },
  {
   "cell_type": "code",
   "execution_count": 12,
   "id": "cba16d76",
   "metadata": {},
   "outputs": [],
   "source": [
    "def flag_iqr_outliers(series):\n",
    "    Q1 = series.quantile(0.25)\n",
    "    Q3 = series.quantile(0.75)\n",
    "    IQR = Q3 - Q1\n",
    "    lower = Q1 - 1.5 * IQR\n",
    "    upper = Q3 + 1.5 * IQR\n",
    "    return (series < lower) | (series > upper)\n",
    "\n",
    "# Create outlier flags (without overwriting your actual columns)\n",
    "outliers_premium = flag_iqr_outliers(df['TotalPremium'])\n",
    "outliers_claims = flag_iqr_outliers(df['TotalClaims'])\n",
    "\n",
    "# Combine both conditions\n",
    "combined_outliers = outliers_premium | outliers_claims\n",
    "\n",
    "# Drop rows with any outliers in either column\n",
    "df = df[~combined_outliers].copy()"
   ]
  },
  {
   "cell_type": "markdown",
   "id": "9781a25d",
   "metadata": {},
   "source": [
    "## Selecting most important variables only"
   ]
  },
  {
   "cell_type": "code",
   "execution_count": 15,
   "id": "bbeb41d1",
   "metadata": {},
   "outputs": [],
   "source": [
    "df= df[[\n",
    "    # Targets\n",
    "    'TotalClaims', 'TotalPremium',\n",
    "    \n",
    "    # Policy and product info\n",
    "    'CalculatedPremiumPerTerm', 'SumInsured', 'CoverCategory', \n",
    "    'CoverType', 'CoverGroup', 'TermFrequency', 'ExcessSelected',\n",
    "    'StatutoryClass', 'StatutoryRiskType', 'Section', 'Product',\n",
    "    \n",
    "    # Customer demographics\n",
    "    'Gender', 'MaritalStatus', 'Province', 'MainCrestaZone', 'SubCrestaZone',\n",
    "    \n",
    "    # Vehicle attributes\n",
    "    'VehicleType', 'make', 'Model', 'Cylinders', 'cubiccapacity', \n",
    "    'kilowatts', 'bodytype', 'NumberOfDoors', 'RegistrationYear',\n",
    "    'NewVehicle', 'AlarmImmobiliser', 'TrackingDevice', 'CapitalOutstanding','TransactionMonth','VehicleIntroDate']]\n",
    "\n",
    "df['loss ratio'] = df['TotalClaims'] / df['TotalPremium']"
   ]
  },
  {
   "cell_type": "code",
   "execution_count": 18,
   "id": "caa2b91c",
   "metadata": {},
   "outputs": [
    {
     "data": {
      "image/png": "[encoded data removed]",
      "text/plain": [
       "<Figure size 640x480 with 1 Axes>"
      ]
     },
     "metadata": {},
     "output_type": "display_data"
    }
   ],
   "source": [
    "sns.histplot(df[\"TotalPremium\"], kde=True)\n",
    "plt.title(\"Distribution of total claims\")\n",
    "plt.show()\n"
   ]
  },
  {
   "cell_type": "code",
   "execution_count": 19,
   "id": "5302529f",
   "metadata": {},
   "outputs": [
    {
     "data": {
      "image/png": "[encoded data removed]",
      "text/plain": [
       "<Figure size 640x480 with 1 Axes>"
      ]
     },
     "metadata": {},
     "output_type": "display_data"
    }
   ],
   "source": [
    "cap = df['TotalClaims'].quantile(0.99)\n",
    "sns.histplot(df[df['TotalClaims'] <= cap]['TotalClaims'], bins=50, kde=True)\n",
    "plt.title(\"Distribution of Total Claims (Capped at 99th Percentile)\")\n",
    "plt.xlabel(\"TotalClaims\")\n",
    "plt.ylabel(\"Count\")\n",
    "plt.show()"
   ]
  },
  {
   "cell_type": "code",
   "execution_count": 21,
   "id": "f69107df",
   "metadata": {},
   "outputs": [
    {
     "name": "stdout",
     "output_type": "stream",
     "text": [
      "count    1.000098e+06\n",
      "mean     6.190550e+01\n",
      "std      2.302845e+02\n",
      "min     -7.825768e+02\n",
      "25%      0.000000e+00\n",
      "50%      2.178333e+00\n",
      "75%      2.192982e+01\n",
      "max      6.528260e+04\n",
      "Name: TotalPremium, dtype: float64\n",
      "        UnderwrittenCoverID  PolicyID     TransactionMonth  IsVATRegistered  \\\n",
      "82130                151624     13791  2015-02-01 00:00:00            False   \n",
      "118503               151625     13791  2015-02-01 00:00:00            False   \n",
      "121945               182533      7062  2015-03-01 00:00:00            False   \n",
      "126228                92188      7062  2015-03-01 00:00:00            False   \n",
      "134693               182534      7062  2015-03-01 00:00:00            False   \n",
      "...                     ...       ...                  ...              ...   \n",
      "980027                 1918       209  2014-07-01 00:00:00            False   \n",
      "980053                 1895       209  2013-12-01 00:00:00            False   \n",
      "980055                 1895       209  2014-03-01 00:00:00            False   \n",
      "980059                 1895       209  2014-05-01 00:00:00            False   \n",
      "980062                 1895       209  2014-07-01 00:00:00            False   \n",
      "\n",
      "       Citizenship   LegalType Title Language       Bank      AccountType  \\\n",
      "82130               Individual    Mr  English  ABSA Bank  Savings account   \n",
      "118503              Individual    Mr  English  ABSA Bank  Savings account   \n",
      "121945              Individual    Mr  English  ABSA Bank  Savings account   \n",
      "126228              Individual    Mr  English  ABSA Bank  Savings account   \n",
      "134693              Individual    Mr  English  ABSA Bank  Savings account   \n",
      "...            ...         ...   ...      ...        ...              ...   \n",
      "980027          ZA  Individual    Mr  English  ABSA Bank  Savings account   \n",
      "980053          ZA  Individual    Mr  English  ABSA Bank  Savings account   \n",
      "980055          ZA  Individual    Mr  English  ABSA Bank  Savings account   \n",
      "980059          ZA  Individual    Mr  English  ABSA Bank  Savings account   \n",
      "980062          ZA  Individual    Mr  English  ABSA Bank  Savings account   \n",
      "\n",
      "        ...                                     ExcessSelected  \\\n",
      "82130   ...                                          No excess   \n",
      "118503  ...                                          No excess   \n",
      "121945  ...                                          No excess   \n",
      "126228  ...                                          No excess   \n",
      "134693  ...                                          No excess   \n",
      "...     ...                                                ...   \n",
      "980027  ...  Mobility - Taxi with value more than R100 000 ...   \n",
      "980053  ...                                          No excess   \n",
      "980055  ...                                          No excess   \n",
      "980059  ...                                          No excess   \n",
      "980062  ...                                          No excess   \n",
      "\n",
      "                     CoverCategory            CoverType            CoverGroup  \\\n",
      "82130             Income Protector     Income Protector      Income Protector   \n",
      "118503         Basic Excess Waiver  Basic Excess Waiver   Basic Excess Waiver   \n",
      "121945  Basic Excess Waiver (2015)  Basic Excess Waiver   Basic Excess Waiver   \n",
      "126228         Basic Excess Waiver  Basic Excess Waiver   Basic Excess Waiver   \n",
      "134693  Basic Excess Waiver (2015)  Basic Excess Waiver   Basic Excess Waiver   \n",
      "...                            ...                  ...                   ...   \n",
      "980027                 Own Damage            Own Damage  Comprehensive - Taxi   \n",
      "980053         Passenger Liability  Passenger Liability  Comprehensive - Taxi   \n",
      "980055         Passenger Liability  Passenger Liability  Comprehensive - Taxi   \n",
      "980059         Passenger Liability  Passenger Liability  Comprehensive - Taxi   \n",
      "980062         Passenger Liability  Passenger Liability  Comprehensive - Taxi   \n",
      "\n",
      "                         Section                             Product  \\\n",
      "82130   Optional Extended Covers  Mobility Commercial Cover: Monthly   \n",
      "118503  Optional Extended Covers  Mobility Commercial Cover: Monthly   \n",
      "121945  Optional Extended Covers  Mobility Commercial Cover: Monthly   \n",
      "126228  Optional Extended Covers  Mobility Commercial Cover: Monthly   \n",
      "134693  Optional Extended Covers  Mobility Commercial Cover: Monthly   \n",
      "...                          ...                                 ...   \n",
      "980027       Motor Comprehensive  Mobility Commercial Cover: Monthly   \n",
      "980053       Motor Comprehensive  Mobility Commercial Cover: Monthly   \n",
      "980055       Motor Comprehensive  Mobility Commercial Cover: Monthly   \n",
      "980059       Motor Comprehensive  Mobility Commercial Cover: Monthly   \n",
      "980062       Motor Comprehensive  Mobility Commercial Cover: Monthly   \n",
      "\n",
      "       StatutoryClass StatutoryRiskType  TotalPremium TotalClaims  \n",
      "82130      Commercial     IFRS Constant    -42.606516         0.0  \n",
      "118503     Commercial     IFRS Constant    -45.112782         0.0  \n",
      "121945     Commercial     IFRS Constant    -24.900962         0.0  \n",
      "126228     Commercial     IFRS Constant    -58.573854         0.0  \n",
      "134693     Commercial     IFRS Constant    -24.900962         0.0  \n",
      "...               ...               ...           ...         ...  \n",
      "980027     Commercial     IFRS Constant   -575.579649         0.0  \n",
      "980053     Commercial     IFRS Constant     -0.760747         0.0  \n",
      "980055     Commercial     IFRS Constant     -1.965263         0.0  \n",
      "980059     Commercial     IFRS Constant     -1.965263         0.0  \n",
      "980062     Commercial     IFRS Constant     -1.965263         0.0  \n",
      "\n",
      "[288 rows x 52 columns]\n"
     ]
    }
   ],
   "source": [
    "print(df['TotalPremium'].describe())\n",
    "print(df[df['TotalPremium'] < 0])"
   ]
  },
  {
   "cell_type": "markdown",
   "id": "6ec61ea4",
   "metadata": {},
   "source": [
    "Thanks! Your results confirm the suspicion — there are 288 rows with negative TotalPremium values, which are not valid in a real insurance dataset. These could be due to:\n",
    "\n",
    "Data entry errors\n",
    "\n",
    "Refunds or reversals misclassified\n",
    "\n",
    "Incorrect calculations"
   ]
  },
  {
   "cell_type": "code",
   "execution_count": 26,
   "id": "886ece0a",
   "metadata": {},
   "outputs": [
    {
     "data": {
      "text/plain": [
       "0.9972072736871787"
      ]
     },
     "execution_count": 26,
     "metadata": {},
     "output_type": "execute_result"
    }
   ],
   "source": [
    "df['TotalClaims'].describe()\n",
    "(df['TotalClaims'] < 0).sum()\n",
    "(df['TotalClaims'] == 0).mean()"
   ]
  },
  {
   "cell_type": "code",
   "execution_count": 27,
   "id": "02d829b7",
   "metadata": {},
   "outputs": [
    {
     "data": {
      "text/plain": [
       "count    1.000098e+06\n",
       "mean     6.486119e+01\n",
       "std      2.384075e+03\n",
       "min     -1.200241e+04\n",
       "25%      0.000000e+00\n",
       "50%      0.000000e+00\n",
       "75%      0.000000e+00\n",
       "max      3.930921e+05\n",
       "Name: TotalClaims, dtype: float64"
      ]
     },
     "execution_count": 27,
     "metadata": {},
     "output_type": "execute_result"
    }
   ],
   "source": [
    "df['TotalClaims'].describe()"
   ]
  },
  {
   "cell_type": "code",
   "execution_count": 28,
   "id": "fd899abb",
   "metadata": {},
   "outputs": [
    {
     "data": {
      "text/plain": [
       "5"
      ]
     },
     "execution_count": 28,
     "metadata": {},
     "output_type": "execute_result"
    }
   ],
   "source": [
    "(df['TotalClaims'] < 0).sum()"
   ]
  },
  {
   "cell_type": "code",
   "execution_count": 29,
   "id": "8640de67",
   "metadata": {},
   "outputs": [
    {
     "data": {
      "text/plain": [
       "288"
      ]
     },
     "execution_count": 29,
     "metadata": {},
     "output_type": "execute_result"
    }
   ],
   "source": [
    "(df['TotalPremium'] < 0).sum()"
   ]
  },
  {
   "cell_type": "code",
   "execution_count": null,
   "id": "2ce6c1ff",
   "metadata": {},
   "outputs": [],
   "source": [
    "\n",
    "\n",
    "df['claims_zscore'] = zscore(df['TotalClaims'])\n",
    "outliers_z = df[(df['claims_zscore'] > 3) | (df['claims_zscore'] < -3)]"
   ]
  },
  {
   "cell_type": "code",
   "execution_count": 32,
   "id": "7ad6270a",
   "metadata": {},
   "outputs": [
    {
     "data": {
      "text/plain": [
       "(1312, 53)"
      ]
     },
     "execution_count": 32,
     "metadata": {},
     "output_type": "execute_result"
    }
   ],
   "source": [
    "outliers_z.shape"
   ]
  },
  {
   "cell_type": "code",
   "execution_count": null,
   "id": "66719583",
   "metadata": {},
   "outputs": [],
   "source": []
  }
 ],
 "metadata": {
  "kernelspec": {
   "display_name": "venv",
   "language": "python",
   "name": "python3"
  },
  "language_info": {
   "codemirror_mode": {
    "name": "ipython",
    "version": 3
   },
   "file_extension": ".py",
   "mimetype": "text/x-python",
   "name": "python",
   "nbconvert_exporter": "python",
   "pygments_lexer": "ipython3",
   "version": "3.12.4"
  }
 },
 "nbformat": 4,
 "nbformat_minor": 5
}
